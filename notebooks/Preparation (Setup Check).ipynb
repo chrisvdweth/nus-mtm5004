{
 "cells": [
  {
   "cell_type": "markdown",
   "id": "8993ca63-b9d7-46f3-a84c-42c2820584c0",
   "metadata": {},
   "source": [
    "<img src=\"data/images/div/lecture-notebook-header.png\" />"
   ]
  },
  {
   "cell_type": "markdown",
   "id": "6b9693fc-add7-4ae9-96a7-b4a5e42b9f59",
   "metadata": {},
   "source": [
    "# Setup Check\n",
    "\n",
    "The purpose of this notebook is to provide some checks if the most important packages needed for this course are installed. If none of the code cells below throw an error, you should be ready to go for the course. In case you get an error stating that a package is missing, you may want to install it using `pip`, `conda`, or `mamba` -- depending on your Python installation and package manager.\n",
    "\n",
    "Note taht individual notebooks might require the import of additional packages. Here, we cover only the most common and frequently used ones."
   ]
  },
  {
   "cell_type": "markdown",
   "id": "3da33d58-2aef-4c5a-8a4f-81219a512a58",
   "metadata": {},
   "source": [
    "## Python Installation\n",
    "\n",
    "As of **December 2023**, we recommend using Python 3.10 to ensure that all required packages are fully supported; although Python 3.10 should also cause no problems. You can check the in-built `sys` module to see which Python version you are using."
   ]
  },
  {
   "cell_type": "code",
   "execution_count": null,
   "id": "5d3aecb3-ded8-4bf5-b2f8-bc1b9a90e6d6",
   "metadata": {},
   "outputs": [],
   "source": [
    "import sys\n",
    "print(sys.version)"
   ]
  },
  {
   "cell_type": "markdown",
   "id": "7c7457c2-bc7b-44de-bef1-a48287e40ece",
   "metadata": {},
   "source": [
    "## Basic Packages\n",
    "\n",
    "The following packages should be part for any Python installation"
   ]
  },
  {
   "cell_type": "markdown",
   "id": "486792ab-bb5f-4687-8f4b-436936b132c4",
   "metadata": {},
   "source": [
    "### Re\n",
    "\n",
    "The `re` module is a built-in Python package that provides regular expression matching operations. It allows you to work with regular expressions, which are powerful patterns used to match and manipulate text. The `re` module enables tasks such as searching for specific patterns, replacing substrings, and extracting relevant information from text data. With the `re` module, you can perform a wide range of text manipulation tasks using regular expressions. It is a versatile tool for handling text data and allows for powerful pattern matching and extraction operations."
   ]
  },
  {
   "cell_type": "code",
   "execution_count": null,
   "id": "1a18376f-3abc-49ab-bf02-33098e29ad66",
   "metadata": {},
   "outputs": [],
   "source": [
    "import re"
   ]
  },
  {
   "cell_type": "markdown",
   "id": "094f03c0-e277-400f-9850-b492d680dd74",
   "metadata": {},
   "source": [
    "## Core Data Science Packages"
   ]
  },
  {
   "cell_type": "markdown",
   "id": "9d67ca96-0a50-4595-be19-5a7bb32fc750",
   "metadata": {},
   "source": [
    "### NumPy\n",
    "\n",
    "NumPy is a widely used Python package for numerical computing. It stands for \"Numerical Python\" and provides efficient and high-performance operations on large, multi-dimensional arrays and matrices. NumPy is a fundamental library in the Python scientific computing ecosystem and serves as a building block for many other data science and machine learning libraries."
   ]
  },
  {
   "cell_type": "code",
   "execution_count": null,
   "id": "07d9dcd4-adf9-4b42-8d73-aa42e5e0ed46",
   "metadata": {},
   "outputs": [],
   "source": [
    "import numpy"
   ]
  },
  {
   "cell_type": "markdown",
   "id": "0460f054-4415-46a9-9025-538489d13a35",
   "metadata": {},
   "source": [
    "### Pandas\n",
    "\n",
    "Pandas is a powerful Python library for data manipulation and analysis. It provides high-performance, easy-to-use data structures and data analysis tools, making it a popular choice for working with structured and tabular data. Pandas builds on top of NumPy and extends its functionality with additional features tailored for data analysis tasks. Pandas is widely used in data analysis, data exploration, data cleaning, feature engineering, and other data-related tasks. It offers a comprehensive set of tools that make working with structured data in Python more convenient and efficient."
   ]
  },
  {
   "cell_type": "code",
   "execution_count": null,
   "id": "e404fc26-5f64-4ea1-bfa7-47e37b9194b2",
   "metadata": {},
   "outputs": [],
   "source": [
    "import pandas"
   ]
  },
  {
   "cell_type": "markdown",
   "id": "b2a55040-296f-46c9-919a-a097d0a750a9",
   "metadata": {},
   "source": [
    "### Scikit-Learn\n",
    "\n",
    "The \"sklearn\" abbreviation commonly refers to the popular Python library called scikit-learn. Scikit-learn is a powerful machine learning library that provides a wide range of algorithms and tools for data mining, data analysis, and machine learning tasks. It is built on top of other scientific Python libraries such as NumPy, SciPy, and matplotlib. Scikit-learn is widely used for various machine learning tasks, including classification, regression, clustering, and dimensionality reduction. It provides a user-friendly interface and a rich set of functionalities, making it a valuable tool for both beginners and experienced practitioners in the field of machine learning."
   ]
  },
  {
   "cell_type": "code",
   "execution_count": null,
   "id": "006b1943-666d-4f73-be30-35337b20b086",
   "metadata": {},
   "outputs": [],
   "source": [
    "import sklearn"
   ]
  },
  {
   "cell_type": "markdown",
   "id": "19c99a2c-4e63-4867-87d7-9cfec0bb3957",
   "metadata": {},
   "source": [
    "### Matplotlib & Seaborn\n",
    "\n",
    "Matplotlib is a popular Python library for creating static, animated, and interactive visualizations. It provides a comprehensive set of tools for generating plots, charts, histograms, scatter plots, and many other types of visualizations. Matplotlib is widely used in data analysis, scientific research, and data visualization tasks. Matplotlib is a powerful and versatile library for data visualization in Python. It offers a wide range of plotting options, customization features, and integration with other scientific libraries. Whether you need to create simple visualizations or complex, interactive plots, Matplotlib provides the tools and flexibility to meet your data visualization needs.\n",
    "\n",
    "Seaborn is a Python data visualization library based on Matplotlib. It provides a high-level interface for creating visually appealing and informative statistical graphics. Seaborn is built on top of Matplotlib and enhances its functionalities, making it easier to generate complex visualizations with fewer lines of code. Seaborn is particularly useful for exploring and visualizing relationships in datasets, especially in the context of statistical analysis. Seaborn is a powerful library for creating visually appealing and informative statistical visualizations. It simplifies the process of generating complex plots and provides specialized functions for exploring relationships in data. Whether you are working on exploratory data analysis, statistical modeling, or data communication, Seaborn can enhance your visualization workflow and help you gain insights from your data."
   ]
  },
  {
   "cell_type": "code",
   "execution_count": null,
   "id": "2fff0389-1c43-4a82-a9bf-be5cf1b3bb0d",
   "metadata": {},
   "outputs": [],
   "source": [
    "import matplotlib\n",
    "import seaborn"
   ]
  },
  {
   "cell_type": "markdown",
   "id": "ea912169-0ab0-4444-9dc8-33b1c65441a1",
   "metadata": {},
   "source": [
    "### NetworkX\n",
    "\n",
    "The `networkx` package is a Python library used for the creation, manipulation, and study of the structure, dynamics, and functions of complex networks. It provides a powerful toolset for working with network data, including graphs, nodes, edges, and various algorithms for analyzing and visualizing networks. `networkx` is widely used in diverse fields, including social network analysis, bioinformatics, recommendation systems, and transportation networks. `networkx` provides a comprehensive set of tools and algorithms for working with networks. It allows for the creation, manipulation, analysis, and visualization of complex networks, making it a valuable tool for studying network structures and properties. Whether you are exploring social networks, analyzing biological networks, or modeling interconnected systems, `networkx` provides a flexible and powerful framework for network analysis in Python."
   ]
  },
  {
   "cell_type": "code",
   "execution_count": null,
   "id": "c008b06f-5d67-40ee-bdf9-3845f8adb31e",
   "metadata": {},
   "outputs": [],
   "source": [
    "import networkx"
   ]
  },
  {
   "cell_type": "markdown",
   "id": "6b9d34ed-5c84-4711-8134-b908f0fa637d",
   "metadata": {},
   "source": [
    "## NLP Toolkits"
   ]
  },
  {
   "cell_type": "markdown",
   "id": "980aeb3c-1814-4966-922d-8a305226d4f8",
   "metadata": {},
   "source": [
    "### NLTK\n",
    "\n",
    "NLTK, which stands for Natural Language Toolkit, is a comprehensive Python library for working with human language data. It provides a wide range of tools and resources for tasks related to natural language processing (NLP), such as tokenization, stemming, lemmatization, POS tagging, parsing, semantic reasoning, and more. NLTK is widely used in academia and industry for NLP research, development, and education. NLTK provides a wide range of modules and resources that can be explored and utilized according to specific NLP tasks and requirements. It is a versatile library that serves as a valuable resource for various aspects of natural language processing and text analysis."
   ]
  },
  {
   "cell_type": "code",
   "execution_count": null,
   "id": "610090f1-6adb-4d5e-b602-eebeb7c4fd4e",
   "metadata": {},
   "outputs": [],
   "source": [
    "import nltk"
   ]
  },
  {
   "cell_type": "markdown",
   "id": "3de7290c-da4a-4219-ada7-8420c380fed6",
   "metadata": {},
   "source": [
    "### spaCy\n",
    "\n",
    "Spacy is a popular Python library for natural language processing (NLP) that provides efficient and industrial-strength tools for various NLP tasks. It is designed to be fast, scalable, and easy to use, making it suitable for both research and production environments. Spacy offers pre-trained models for multiple languages and allows for easy customization and extension. Spacy provides a powerful and efficient set of tools for various NLP tasks. Its focus on speed, accuracy, and ease of use has made it a popular choice for NLP practitioners and researchers."
   ]
  },
  {
   "cell_type": "code",
   "execution_count": null,
   "id": "4893e52c-5409-4315-9e01-45f7acbb71c5",
   "metadata": {},
   "outputs": [],
   "source": [
    "import spacy"
   ]
  },
  {
   "cell_type": "markdown",
   "id": "b3bc7a7f-d6ad-4cd4-a4f1-5c04f0064058",
   "metadata": {},
   "source": [
    "## Deep Learning Frameworks\n",
    "\n",
    "Deep learning frameworks are software libraries that provide a high-level interface and a set of tools for building, training, and deploying deep neural networks. These frameworks simplify the implementation of complex deep learning models by providing pre-defined layers, optimization algorithms, and other components necessary for constructing neural networks. Deep learning frameworks enable researchers and developers to focus on designing and experimenting with models rather than writing low-level code for network operations. "
   ]
  },
  {
   "cell_type": "markdown",
   "id": "402741fe-2cce-48d6-adbf-db02196b65ad",
   "metadata": {},
   "source": [
    "### PyTorch (and related packages)\n",
    "\n",
    "PyTorch is a popular open-source deep learning framework developed by Facebook's AI Research lab. It provides a Pythonic interface for building and training deep neural networks. PyTorch is widely known for its flexibility, dynamic computation graph, and strong support for research and rapid prototyping. PyTorch has gained significant popularity in the deep learning community due to its intuitive syntax, dynamic graph, and strong support for research. It has a large and active community that contributes to its development, and it is widely adopted in both academia and industry. PyTorch's flexibility and ease of use make it a powerful framework for building and training deep neural networks for a wide range of applications.\n",
    "\n",
    "The `torchtext` package is a Python library built on top of PyTorch that provides utilities and tools for working with text data in deep learning tasks. It aims to simplify the process of preprocessing, loading, and batching textual data for training deep learning models. `torchtext` offers functionalities for common natural language processing (NLP) tasks, such as tokenization, vocabulary management, and dataset handling. `torchtext` simplifies the process of handling text data in NLP tasks and integrates well with PyTorch, enabling seamless incorporation of text processing pipelines into deep learning workflows. It provides efficient and convenient tools for preprocessing, vocabulary management, dataset handling, and batch processing, saving time and effort in text data preparation for deep learning models."
   ]
  },
  {
   "cell_type": "code",
   "execution_count": null,
   "id": "39836b33-4f41-4fb7-9169-d0cc6d66b069",
   "metadata": {},
   "outputs": [],
   "source": [
    "import torch\n",
    "import torchtext\n",
    "import torchvision"
   ]
  },
  {
   "cell_type": "markdown",
   "id": "d3abffcc-f7ba-4204-b040-eeaaa8097668",
   "metadata": {},
   "source": [
    "## GPU Support\n",
    "\n",
    "A GPU (Graphics Processing Unit) is a specialized electronic circuit designed to rapidly manipulate and alter memory to accelerate the creation of images for display on a computer screen. However, GPUs are not limited to graphics processing and have found applications in various fields, including data science and deep learning.\n",
    "\n",
    "In data science and deep learning, GPUs are incredibly useful due to their parallel processing capabilities. Unlike CPUs (Central Processing Units), which excel at performing tasks sequentially, GPUs are designed to handle multiple tasks simultaneously. This parallelism allows GPUs to perform computations on large datasets and complex models much faster than CPUs. Here's how GPUs can specifically help with data science and deep learning:\n",
    "\n",
    "* **Faster computation:** GPUs can execute mathematical operations in parallel, which significantly speeds up computations for tasks such as matrix multiplications and convolutions. This acceleration is crucial for training deep neural networks, which involve numerous complex operations.\n",
    "\n",
    "* **Model training:** Deep learning models, especially those with millions or billions of parameters, require extensive computational power for training. GPUs excel in this aspect by distributing the workload across thousands of cores, resulting in faster model convergence and reduced training times.\n",
    "\n",
    "* **Model deployment and inference:** Once a deep learning model is trained, it needs to be deployed for real-world use. GPUs can continue to play a vital role in this phase by accelerating the inference process. Inference refers to the model's ability to make predictions or classify new data based on its learned knowledge. GPUs can perform inference computations in parallel, allowing for faster and more efficient real-time predictions.\n",
    "\n",
    "* **Large dataset processing:** Data science often involves working with large datasets. GPUs can help accelerate data preprocessing tasks, such as feature extraction, data augmentation, and transformation. These operations can be parallelized across multiple GPU cores, reducing the time required for data preparation.\n",
    "\n",
    "* **Experimentation and optimization:** Data scientists and deep learning researchers often iterate through numerous experiments to fine-tune their models and hyperparameters. GPUs facilitate faster experimentation cycles by providing quicker feedback on model performance, enabling researchers to iterate more efficiently.\n",
    "\n",
    "To leverage GPUs for data science and deep learning, specialized libraries and frameworks have been developed, such as TensorFlow and **PyTorch**, which provide GPU support and take advantage of the parallel processing capabilities. These libraries allow users to write code that can run on GPUs with minimal modifications, making it easier to harness the power of GPUs in data science workflows.\n",
    "\n",
    "Overall, GPUs offer significant benefits to data science and deep learning tasks, enabling faster computations, reduced training times, efficient model deployment, and improved experimentation cycles, ultimately advancing the capabilities of these fields."
   ]
  },
  {
   "cell_type": "markdown",
   "id": "b6fca295-9d67-4361-a2df-10997c582c84",
   "metadata": {},
   "source": [
    "### Check GPU Support with PyTorch\n",
    "\n",
    "As mentioned above, GPU support is of particular benefit in the context of Deep Learning. Thus, all modern Deep Learning Frameworks support training and inferencing on GPUs. For example, PyTorch provides the method `torch.cuda.is_available()` to check it everything is set up correctly for PyTorch to utilize a GPU."
   ]
  },
  {
   "cell_type": "code",
   "execution_count": null,
   "id": "962c8a2d-cd69-4aee-9a86-3056a7cdd68a",
   "metadata": {},
   "outputs": [],
   "source": [
    "import torch\n",
    "\n",
    "# Setting device on GPU if available, else CPU\n",
    "device = torch.device('cuda' if torch.cuda.is_available() else 'cpu')\n",
    "print('Using device:', device)\n",
    "print()\n",
    "\n",
    "# Additional Info when using cuda\n",
    "if device.type == 'cuda':\n",
    "    print(torch.cuda.get_device_name(0))\n",
    "    print('Memory Usage:')\n",
    "    print('Allocated:', round(torch.cuda.memory_allocated(0)/1024**3,1), 'GB')\n",
    "    print('Cached:   ', round(torch.cuda.memory_reserved(0)/1024**3,1), 'GB')"
   ]
  },
  {
   "cell_type": "markdown",
   "id": "dff73f2c-0f03-4340-8886-4045b0f45580",
   "metadata": {},
   "source": [
    "An output of the code cell above might look like as follows:\n",
    "    \n",
    "```\n",
    "Using device: cuda\n",
    "\n",
    "NVIDIA GeForce RTX 2080 Ti\n",
    "Memory Usage:\n",
    "Allocated: 0.0 GB\n",
    "Cached:    0.0 GB\n",
    "```\n",
    "\n",
    "Of course, the output may differ, particularly depending on which type of GPU is installed -- or how many. However, if the output is\n",
    "\n",
    "```\n",
    "Using device: cuda\n",
    "```\n",
    "\n",
    "your GPU is not correctly set up. There can be several reasons why a GPU may not be working with PyTorch. Here are some common issues to consider:\n",
    "\n",
    "* **Incompatible hardware:** Ensure that your GPU is compatible with PyTorch and has the required specifications. PyTorch supports NVIDIA GPUs with CUDA architecture. Check the PyTorch documentation for specific GPU compatibility details.\n",
    "\n",
    "* **CUDA installation:** PyTorch relies on the CUDA toolkit provided by NVIDIA for GPU acceleration. Make sure that CUDA is properly installed on your system and that you have the correct version compatible with your GPU. PyTorch requires a specific CUDA version to work seamlessly.\n",
    "\n",
    "* **Driver issues:** Ensure that you have the latest GPU drivers installed. Outdated or incompatible drivers can prevent PyTorch from utilizing the GPU effectively. Visit the official website of your GPU manufacturer (e.g., NVIDIA) to download and install the latest drivers.\n",
    "\n",
    "* **PyTorch installation:** Make sure that you have installed PyTorch with GPU support. PyTorch offers different distributions, including CPU-only versions and GPU-enabled versions. You need to install the appropriate version that includes CUDA support for your GPU."
   ]
  },
  {
   "cell_type": "markdown",
   "id": "3ccf53a9-0cb1-4274-8423-5bcdc9a68cea",
   "metadata": {},
   "source": [
    "If the code cell above successfully showed the availability of a GPU, it still might show `0.0 GB` for allocated and cached memory. This simply means that your GPU was mainly idling. However, we can easily test this. For example, in the code cell below, we create a random tensor (here: a 3-dimensional array). We can also calculate the size of the tensor in megabytes by multiplying the number of tensor elements with the size of an element."
   ]
  },
  {
   "cell_type": "code",
   "execution_count": null,
   "id": "60b0df0f-51ab-40e5-89a0-085b6ab158a7",
   "metadata": {},
   "outputs": [],
   "source": [
    "# Create tensors\n",
    "a = torch.rand(1000, 1000, 1000, dtype=torch.float32)\n",
    "\n",
    "# Calculate size in megabytes (#elements * #bytes_per_element)\n",
    "size_in_megabytes = ((a.nelement() * a.element_size()) / 1000000)\n",
    "\n",
    "print(size_in_megabytes)"
   ]
  },
  {
   "cell_type": "markdown",
   "id": "60525a4d-d593-4be1-840f-a670823d501e",
   "metadata": {},
   "source": [
    "If you see an output of 4000.0, this means that the tensor has a size of 4 GB. This means that an individual element in the tensor has a size of 4 bytes (typically a float with 32 bit precision, but this might differ depending on the platform; here we explicitly choose `float32` to ensure the same output). If the code cell above throws a memory error, try reducing the size of the tensor.\n",
    "\n",
    "So far the tensor `a` \"lives\" in the main memory. However, we want to move to the GPU. In PyTorch, we can simply do this using the `to()` method. Of course, this assumes that a GPU was successfully detected previously."
   ]
  },
  {
   "cell_type": "code",
   "execution_count": null,
   "id": "59517918-5506-4088-af61-57d2d956c1a8",
   "metadata": {},
   "outputs": [],
   "source": [
    "# First remove tensor from GPU (only relevant if you run this code cell multiple times)\n",
    "a_on_gpu = None\n",
    "torch.cuda.empty_cache()\n",
    "\n",
    "# Move tensor to GPU\n",
    "a_on_gpu = a.to(device) # If you comment this line and run the cell, it should clear the GPU memory"
   ]
  },
  {
   "cell_type": "markdown",
   "id": "ce7f2f00-6a0c-4c18-a040-7d6a00558e2a",
   "metadata": {},
   "source": [
    "Let's again check the memory consumption using the code snippet from above."
   ]
  },
  {
   "cell_type": "code",
   "execution_count": null,
   "id": "b691a328-ffef-4203-b2d4-cd9a52fe73b1",
   "metadata": {},
   "outputs": [],
   "source": [
    "#Additional Info when using cuda\n",
    "if device.type == 'cuda':\n",
    "    print(torch.cuda.get_device_name(0))\n",
    "    print('Memory Usage:')\n",
    "    print('Allocated:', round(torch.cuda.memory_allocated(0)/1024**3,1), 'GB')\n",
    "    print('Cached:   ', round(torch.cuda.memory_reserved(0)/1024**3,1), 'GB')"
   ]
  },
  {
   "cell_type": "markdown",
   "id": "a9436b8f-c2da-4b78-b255-c8d9fce5090c",
   "metadata": {},
   "source": [
    "Now the allocated and/or cached memory shows a memory consumption of around `4 GB`. It is unlikely to be exactly this value, but it should be in that ballpark."
   ]
  },
  {
   "cell_type": "markdown",
   "id": "74fb7915-401f-410a-892c-0c91ee2d11fa",
   "metadata": {},
   "source": [
    "### Check GPU Support with spaCy\n",
    "\n",
    "spaCy can be used with a GPU for certain operations. However, it's important to note that not all aspects of spaCy are GPU-accelerated. The GPU support in spaCy primarily focuses on neural network models for certain NLP tasks, such as tokenization, part-of-speech tagging, named entity recognition, and dependency parsing.\n",
    "\n",
    "To utilize a GPU with spaCy, you'll need to ensure that you have the necessary dependencies and configurations in place:\n",
    "\n",
    "* **CUDA support:** Make sure that you have CUDA drivers and the CUDA toolkit installed on your system. GPU acceleration relies on CUDA to perform computations on the GPU.\n",
    "\n",
    "* **GPU-enabled spaCy model:** spaCy provides certain pre-trained models that can be used with GPU acceleration. These models are usually prefixed with \"lg\" (large) or \"md\" (medium), indicating their size. The smaller models, typically prefixed with \"sm\" (small), do not have GPU support. Ensure that you download and load the appropriate GPU-enabled model.\n",
    "\n",
    "* **Configuration:** To enable GPU usage in spaCy, you need to set up the proper configuration. This typically involves creating a spaCy language object with GPU support and specifying the GPU device to be used. Here's an example:"
   ]
  },
  {
   "cell_type": "code",
   "execution_count": null,
   "id": "6d61c64a-922b-4442-b9ee-6aa0607d199f",
   "metadata": {},
   "outputs": [],
   "source": [
    "import spacy\n",
    "\n",
    "spacy.prefer_gpu() # or spacy.require_gpu()\n",
    "\n",
    "# Load a GPU-enabled model (if missing, check out: https://spacy.io/models/en)\n",
    "nlp = spacy.load('en_core_web_md')  "
   ]
  },
  {
   "cell_type": "markdown",
   "id": "b6842aba-c7a9-41d5-8ca0-4d14185d4c51",
   "metadata": {},
   "source": [
    "If the code cell above does not throw any error, analyzing a document will now be done on the GPU."
   ]
  },
  {
   "cell_type": "code",
   "execution_count": null,
   "id": "6c440ec8-0a67-438f-b1c6-ffc4911ad283",
   "metadata": {},
   "outputs": [],
   "source": [
    "doc = nlp(\"This is an example sentence.\")"
   ]
  },
  {
   "cell_type": "markdown",
   "id": "b11c168b-cc76-4bdc-94d3-f0742c0b3b63",
   "metadata": {},
   "source": [
    "Given this simple example sentence, there will be no noticeable difference compared to using the CPU. In fact, for very simple tasks, using the CPU is preferred since utilizing the GPU always includes some overhead such as moving models and data to the GPU. However, keep in mind that spaCy is also very flexible and allows you to train your own models. In these cases, using a GPU can have significant performance benefits.\n",
    "\n",
    "It's important to note that not all spaCy operations are GPU-accelerated. Some functionality, such as rule-based matching, linguistic features, and custom components, may still run on the CPU. Therefore, it's recommended to benchmark and profile your specific use case to determine the performance benefits of using a GPU with spaCy."
   ]
  },
  {
   "cell_type": "code",
   "execution_count": null,
   "id": "290e936d-77da-4972-84f0-38b4d974bcdb",
   "metadata": {},
   "outputs": [],
   "source": []
  }
 ],
 "metadata": {
  "kernelspec": {
   "display_name": "Python [conda env:py310]",
   "language": "python",
   "name": "conda-env-py310-py"
  },
  "language_info": {
   "codemirror_mode": {
    "name": "ipython",
    "version": 3
   },
   "file_extension": ".py",
   "mimetype": "text/x-python",
   "name": "python",
   "nbconvert_exporter": "python",
   "pygments_lexer": "ipython3",
   "version": "3.10.13"
  }
 },
 "nbformat": 4,
 "nbformat_minor": 5
}
