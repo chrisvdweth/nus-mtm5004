{
 "cells": [
  {
   "cell_type": "markdown",
   "metadata": {},
   "source": [
    "<img src=\"data/images/div/lecture-notebook-header.png\" />"
   ]
  },
  {
   "cell_type": "markdown",
   "metadata": {},
   "source": [
    "# Tokenization\n",
    "\n",
    "Tokenization is a fundamental process in Natural Language Processing (NLP) that involves breaking down a text or sentence into smaller units called tokens. A token is typically a word, but it can also be a character, subword, or any other meaningful unit of text. Tokenization plays a crucial role in NLP tasks because many algorithms and models operate at the token level, treating each token as a discrete unit for further analysis or processing. By splitting text into tokens, we gain a structured representation that can be leveraged for various NLP tasks, such as text classification, named entity recognition, machine translation, sentiment analysis, and more.\n",
    "\n",
    "The tokenization process can vary depending on the specific requirements of the task or the language being processed. Here are some common approaches to tokenization:\n",
    "\n",
    "* **Character Tokenization:** In character tokenization, each character becomes a separate token. For example, the word \"tokenization\" would be tokenized into [\"t\", \"o\", \"k\", \"e\", \"n\", \"i\", \"z\", \"a\", \"t\", \"i\", \"o\", \"n\"].\n",
    "\n",
    "* **Word Tokenization:** This method splits text into individual words. For example, the sentence \"Tokenization is important for NLP tasks\" would be tokenized into the tokens [\"Tokenization\", \"is\", \"important\", \"for\", \"NLP\", \"tasks\"].\n",
    "\n",
    "* **Subword Tokenization**: Subword tokenization splits text into smaller units, such as subword pieces or morphemes. This approach is useful for languages with complex morphology or when dealing with out-of-vocabulary (OOV) words. Examples of subword tokenization algorithms include Byte-Pair Encoding (BPE) and WordPiece.\n",
    "\n",
    "Tokenization is not always a straightforward process, as certain challenges can arise. For instance, handling contractions (\"can't\" split into \"can\" and \"'t\") or punctuation (\"Mr. Smith\" treated as [\"Mr\", \".\", \"Smith\"]) require careful consideration in the tokenization process. Tokenization is typically one of the initial steps in NLP pipelines, serving as a foundation for subsequent tasks such as text preprocessing, feature extraction, and model training. The resulting tokens can be further processed, encoded, or represented in numerical form for computational analysis. Various NLP libraries and frameworks provide built-in tokenization functionalities, making it easier to tokenize text in different languages and handle various tokenization requirements.\n",
    "\n",
    "In this notebook, we focus on **word tokenization** as it is the most fundemantal approach for many to most NLP tasks. "
   ]
  },
  {
   "cell_type": "markdown",
   "metadata": {},
   "source": [
    "## Setting up the Notebook\n",
    "\n",
    "\n",
    "### Import all Required Packages\n",
    "\n",
    "We use NLTK a spaCy, two very popular and mature Python packages for language processing.\n"
   ]
  },
  {
   "cell_type": "code",
   "execution_count": null,
   "metadata": {},
   "outputs": [],
   "source": [
    "from nltk.tokenize.punkt import PunktSentenceTokenizer\n",
    "from nltk.tokenize import TreebankWordTokenizer\n",
    "from nltk.tokenize import TweetTokenizer\n",
    "from nltk.tokenize import RegexpTokenizer\n",
    "\n",
    "from nltk import word_tokenize # Simplfied notation; it's a wrapper for the TreebankWordTokenizer\n",
    "\n",
    "\n",
    "import spacy\n",
    "\n",
    "# Load English language model (if missing, check out: https://spacy.io/models/en)\n",
    "nlp = spacy.load('en_core_web_md')  "
   ]
  },
  {
   "cell_type": "markdown",
   "metadata": {},
   "source": [
    "NLTK provides more tokenizers: http://www.nltk.org/api/nltk.tokenize.html"
   ]
  },
  {
   "cell_type": "markdown",
   "metadata": {},
   "source": [
    "### Define an Example Document\n",
    "\n",
    "We first create list of sentences that will form our example document."
   ]
  },
  {
   "cell_type": "code",
   "execution_count": null,
   "metadata": {},
   "outputs": [],
   "source": [
    "sentences = [\"Text processing with Python is great.\", \n",
    "             \"It isn't (very) complicated to get started.\",\n",
    "             \"However,careful to...you know....avoid mistakes.\",\n",
    "             \"Contact me at vonderweth@nus.edu.sg; see http://nus.edu.sg.\",\n",
    "             \"This is so cooool #nltkrocks :))) :-P <3.\"]"
   ]
  },
  {
   "cell_type": "markdown",
   "metadata": {},
   "source": [
    "To form the document, we can use the in-built `join()` method to concatenate all sentences using a whitespace as separator."
   ]
  },
  {
   "cell_type": "code",
   "execution_count": null,
   "metadata": {},
   "outputs": [],
   "source": [
    "document = ' '.join(sentences)\n",
    "\n",
    "# Print the document to see if everything looks alright\n",
    "print (document)"
   ]
  },
  {
   "cell_type": "markdown",
   "metadata": {},
   "source": [
    "---"
   ]
  },
  {
   "cell_type": "markdown",
   "metadata": {},
   "source": [
    "## Tokenization with NLTK\n",
    "\n",
    "### Document tokenization into sentences\n",
    "\n",
    "Sometimes, you just want to split a document into sentences and not individual tokens."
   ]
  },
  {
   "cell_type": "code",
   "execution_count": null,
   "metadata": {},
   "outputs": [],
   "source": [
    "sentence_tokenizer = PunktSentenceTokenizer()\n",
    "\n",
    "# The tokenize() method returns a list containing the sentences\n",
    "sentences_alt = sentence_tokenizer.tokenize(document)\n",
    "\n",
    "# Loop over all sentences and print each sentence\n",
    "for s in sentences_alt:\n",
    "    print (s)"
   ]
  },
  {
   "cell_type": "markdown",
   "metadata": {},
   "source": [
    "### Document tokenization into tokens\n",
    "\n",
    "In the following, we tokenize each sentence individually. This makes the presentation a bit more convenient. In practice, you can tokenize the whole document at once."
   ]
  },
  {
   "cell_type": "markdown",
   "metadata": {},
   "source": [
    "#### Naive tokenization\n",
    "\n",
    "Python provides an in-built method `split()` that splits strings with respect to a user-defined separator. By default, the separator is a whitespace."
   ]
  },
  {
   "cell_type": "code",
   "execution_count": null,
   "metadata": {},
   "outputs": [],
   "source": [
    "print ('\\nOutput of split() method:')\n",
    "for s in sentences:\n",
    "    print (s.split(' '))\n",
    "    #print(s.split()) # This is also fine since whitespace is the default separator"
   ]
  },
  {
   "cell_type": "markdown",
   "metadata": {},
   "source": [
    "The limitation of this approach is obvious, since many tokens are not separated by a whitespace. Most commonly this is the case for punctuation marks."
   ]
  },
  {
   "cell_type": "markdown",
   "metadata": {},
   "source": [
    "#### TreebankWordTokenizer\n",
    "\n",
    "The `TreebankWordTokenizer` is a tokenizer available in the Natural Language Toolkit (NLTK) library for Python. It is specifically designed to tokenize text according to the conventions of the Penn Treebank. The Penn Treebank is a widely used corpus of annotated English text that has been extensively used in natural language processing research.\n",
    "\n",
    "The `TreebankWordTokenizer` tokenizes text by following the rules and conventions defined in the Penn Treebank. It splits text into words and punctuation marks while considering specific cases such as contractions, hyphenated words, and punctuation attached to words. It is the default tokenizer of NLTK. This tokenizer is commonly used for tasks that rely on the Penn Treebank tokenization conventions, such as training and evaluating language models, part-of-speech tagging, syntactic parsing, and other NLP tasks that benefit from consistent tokenization based on the Penn Treebank guidelines."
   ]
  },
  {
   "cell_type": "code",
   "execution_count": null,
   "metadata": {},
   "outputs": [],
   "source": [
    "treebank_tokenizer = TreebankWordTokenizer()\n",
    "\n",
    "print ('\\nOutput of TreebankWordTokenizer:')\n",
    "for s in sentences:\n",
    "    print (treebank_tokenizer.tokenize(s))\n",
    "\n",
    "print ('\\nOutput of the word_tokenize() method:')\n",
    "for s in sentences:\n",
    "    print (word_tokenize(s))   "
   ]
  },
  {
   "cell_type": "markdown",
   "metadata": {},
   "source": [
    "Both outputs are the same, since the `word_tokenize()` method is just a wrapper for the `TreebankWordTokenizer` to simplify the coding.\n",
    "\n",
    "See how this tokenizer also splits common contractions such as *isn't*, *hasn't*, *haven't*. Other tokenizers (see below) consider such contractions as one token. Being aware how this is handled is, for example, important for sentiment analysis where handling negations is very important to get the sentiment right.\n",
    "\n",
    "Also, notice how the tokenizer can handle the ellipsis (`...`) correctly in the first case but fails in the second case since an ellipsis is by definition composed of exactly 3 dots. More or less the 3 dots are not handled properly.\n"
   ]
  },
  {
   "cell_type": "markdown",
   "metadata": {},
   "source": [
    "#### TweetTokenizer\n",
    "\n",
    "The `TweetTokenizer` is a specific tokenizer available in the Natural Language Toolkit (NLTK) library for Python that is specifically designed for tokenizing tweets or other social media text. It is tailored to handle the unique characteristics and conventions often found in tweets, such as hashtags, user mentions, emoticons, and URLs. It offers additional functionality compared to general-purpose tokenizers. It takes into account the specific structures and symbols commonly used in tweets, allowing for more accurate and context-aware tokenization of social media text. It recognizes and tokenizes hashtags, user mentions (starting with \"@\"), URLs, emoticons, and other patterns commonly found in tweets, providing a more fine-grained tokenization approach for analyzing social media text."
   ]
  },
  {
   "cell_type": "code",
   "execution_count": null,
   "metadata": {},
   "outputs": [],
   "source": [
    "tweet_tokenizer = TweetTokenizer()\n",
    "\n",
    "print ('Output of TweetTokenizer:')\n",
    "for s in sentences:\n",
    "    print (tweet_tokenizer.tokenize(s))"
   ]
  },
  {
   "cell_type": "markdown",
   "metadata": {},
   "source": [
    "Here, both ellipses are recognized, with the second one even \"corrected\" to three dots.\n",
    "\n",
    "Note how the tokenizer fails with `:)))`. The problem is that it is not the \"official version\" of the emoticon -- which is `:)` or `:-)` -- but uses multiple \"mouths\" to emphasize the expressed sentiment of feeling. If a subsequent analysis not really depends on it, some extra `)` are no big deal in many cases.\n",
    "\n",
    "The 2 basic alternatives to properly address this issue:\n",
    "- Clean your text before tokenizing\n",
    "- Remove all \"odd\" tokens from the list before further processing\n",
    "- Write your own sophisticated tokenizer :-)\n"
   ]
  },
  {
   "cell_type": "markdown",
   "metadata": {},
   "source": [
    "#### RegexpTokenizer\n",
    "\n",
    "The RegexpTokenizer is a tokenizer available in the Natural Language Toolkit (NLTK) library for Python. It is a customizable tokenizer that uses regular expressions to split text into tokens based on specified patterns. It allows you to define a regular expression pattern that matches the desired token boundaries. It tokenizes text by identifying substrings that match the specified pattern and separating them into individual tokens.\n",
    "\n",
    "You can customize the regular expression pattern according to your specific tokenization requirements. For example, if you want to tokenize based on specific characters, you can modify the pattern accordingly. Additionally, you can use character classes, quantifiers, and other regular expression constructs to define more complex tokenization patterns.\n",
    "\n",
    "The `RegexpTokenizer` provides flexibility and fine-grained control over the tokenization process. It allows you to adapt the tokenizer to the specific needs of your text data and the requirements of your NLP task. By defining appropriate regular expression patterns, you can tokenize text in a way that suits your specific use case, such as handling specialized domains, custom abbreviations, or other text patterns."
   ]
  },
  {
   "cell_type": "code",
   "execution_count": null,
   "metadata": {},
   "outputs": [],
   "source": [
    "pattern = '\\w+' # all alphanumeric words\n",
    "pattern = '[a-zA-Z]+' # all alphanumeric words (without digits)\n",
    "pattern = '[a-zA-Z\\']+' # all alphanumeric words (without digits, but keep contractions)\n",
    "regexp_tokenizer = RegexpTokenizer(pattern)\n",
    "\n",
    "print ('\\nOutput of RegexpTokenizer for pattern {}:'.format(pattern))\n",
    "for s in sentences:\n",
    "    print (regexp_tokenizer.tokenize(s))"
   ]
  },
  {
   "cell_type": "markdown",
   "metadata": {},
   "source": [
    "---"
   ]
  },
  {
   "cell_type": "markdown",
   "metadata": {},
   "source": [
    "## Tokenization with spaCy\n",
    "\n",
    "spaCy's tokenizer is responsible for breaking down text into individual linguistic units, such as words or punctuation marks. It follows a set of rules and heuristics to determine where to split the text. Here's a general overview of how the tokenizer in spaCy works:\n",
    "\n",
    "* **Whitespace Splitting:** The tokenizer initially splits the text on whitespace characters (e.g., spaces, tabs, newlines) to create token candidates.\n",
    "\n",
    "* **Prefix Rules:** The tokenizer applies a set of prefix rules to identify and split off leading punctuation marks, such as opening quotation marks or brackets. For example, the tokenizer would split \"Hello!\" into two tokens, \"Hello\" and \"!\".\n",
    "\n",
    "* **Suffix Rules:** Similarly, the tokenizer applies suffix rules to identify and split off trailing punctuation marks, such as periods or closing quotation marks. For example, it would split \"example.\" into two tokens, \"example\" and \".\".\n",
    "\n",
    "* **Infixes:** The tokenizer then looks for infixes, which are sequences of characters that appear within a word. It uses rules to determine where to split these infixes, typically when they indicate word boundaries. For instance, the tokenizer would split \"can't\" into \"ca\" and \"n't\".\n",
    "\n",
    "* **Special Cases:** spaCy's tokenizer handles special cases, such as contractions, abbreviations, emoticons, or currency symbols, where the standard rules might not apply. It uses language-specific knowledge and a customizable list of special case rules to tokenize these instances correctly.\n",
    "\n",
    "* **Tokenization Exceptions:** spaCy provides a mechanism to define exceptions to the tokenization rules using custom tokenization patterns. This allows users to override the default behavior and handle specific cases according to their needs.\n",
    "\n",
    "* **Post-processing:** After applying the tokenization rules, the tokenizer performs additional post-processing steps. This may involve removing leading or trailing white spaces, normalizing Unicode characters, or applying language-specific transformations.\n",
    "\n",
    "The figure below illustrates the tokenization process by applying the different rules and heuristics. This image is directly take from the [spaCy website](https://spacy.io/usage/spacy-101):\n",
    "\n",
    "<img src='data/images/screenshots/spacy-tokenizer-example.png' />\n",
    "\n",
    "\n",
    "spaCy's tokenizer is designed to be highly customizable and can be trained or adjusted to accommodate specific domain requirements or languages. It forms the foundation for many subsequent natural language processing tasks, such as part-of-speech tagging, named entity recognition, and dependency parsing."
   ]
  },
  {
   "cell_type": "markdown",
   "metadata": {},
   "source": [
    "### Process Document\n",
    "\n",
    "Compared to NLTK, the common usage of spaCy is to process a string which not only performs tokenization but also other steps (see later tutorial). Here, we only look at the tokens.\n",
    "\n",
    "Again, we process each sentence individually to simplify the output."
   ]
  },
  {
   "cell_type": "code",
   "execution_count": null,
   "metadata": {},
   "outputs": [],
   "source": [
    "print ('\\nOutput of spaCy tokenizer:')\n",
    "for s in sentences:\n",
    "    doc = nlp(s) # doc is an object, not just a simple list\n",
    "    # Let's create a list so the output matches the previous ones\n",
    "    token_list = []\n",
    "    for token in doc:\n",
    "        token_list.append(token.text) # token is also an object, not a string\n",
    "    print (token_list)"
   ]
  },
  {
   "cell_type": "markdown",
   "metadata": {},
   "source": [
    "spaCy does a bit better with the uncommon emoticon, but it splits the hashtag. However, spaCy allows you to customize the rules and heuristics better suit your specific requirements, typically given by your taks your application."
   ]
  },
  {
   "cell_type": "markdown",
   "metadata": {},
   "source": [
    "---"
   ]
  },
  {
   "cell_type": "markdown",
   "metadata": {},
   "source": [
    "## Summary\n",
    "\n",
    "Tokenization is a fundamental step in Natural Language Processing (NLP) that involves breaking down text into smaller units called tokens. These tokens can be individual words, subwords, characters, or even linguistic units like sentences or paragraphs. Tokenization serves as the first step in processing raw text data to enable further analysis and modeling. The primary goal of tokenization is to establish a standardized representation of textual data that can be easily understood and processed by NLP algorithms. By breaking down text into tokens, NLP models can effectively capture the structure, semantics, and statistical properties of language.\n",
    "\n",
    "Tokenization techniques vary depending on the specific requirements and characteristics of the task at hand. The most common form of tokenization is word tokenization, where text is segmented into individual words. This approach assumes that words are the basic building blocks of meaning in language. However, in certain cases, subword tokenization can be used to handle out-of-vocabulary words, rare or misspelled words, or languages with complex morphology.\n",
    "\n",
    "Tokenization is not limited to word boundaries; it can also involve the identification of sentence boundaries, paragraphs, or even smaller linguistic units like named entities or syntactic constituents. Each token retains important linguistic information, such as part-of-speech, lemma, or position, which can be used for subsequent analysis. In addition to the basic segmentation of text, tokenization often involves other tasks, such as normalizing text by removing punctuation, converting text to lowercase, or handling special cases like contractions or abbreviations. These additional steps help to improve the quality and consistency of the tokenized output.\n",
    "\n",
    "Overall, tokenization plays a crucial role in NLP by transforming raw text into structured data that can be readily processed, analyzed, and modeled by various NLP algorithms and techniques. It serves as a foundation for a wide range of NLP tasks, including sentiment analysis, machine translation, named entity recognition, text classification, and more.\n"
   ]
  },
  {
   "cell_type": "code",
   "execution_count": null,
   "metadata": {},
   "outputs": [],
   "source": []
  }
 ],
 "metadata": {
  "anaconda-cloud": {},
  "kernelspec": {
   "display_name": "Python [conda env:py310]",
   "language": "python",
   "name": "conda-env-py310-py"
  },
  "language_info": {
   "codemirror_mode": {
    "name": "ipython",
    "version": 3
   },
   "file_extension": ".py",
   "mimetype": "text/x-python",
   "name": "python",
   "nbconvert_exporter": "python",
   "pygments_lexer": "ipython3",
   "version": "3.10.13"
  }
 },
 "nbformat": 4,
 "nbformat_minor": 4
}
