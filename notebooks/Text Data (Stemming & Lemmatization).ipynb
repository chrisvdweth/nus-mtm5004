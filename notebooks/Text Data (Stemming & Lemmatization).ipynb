{
 "cells": [
  {
   "cell_type": "markdown",
   "metadata": {},
   "source": [
    "<img src=\"data/images/div/lecture-notebook-header.png\" />"
   ]
  },
  {
   "cell_type": "markdown",
   "metadata": {},
   "source": [
    "# Stemming & Lemmatization\n",
    "\n",
    "Consider the following to sentences:\n",
    "\n",
    "- Dogs make the best friends.\n",
    "- A dog makes a good friend.\n",
    "\n",
    "Semantically, both sentences are essentially conveying the same message, but syntactically they are very different since the vocabulary is different: \"dog\" vs. \"dog\", \"make\" vs. \"makes\", \"friends\" vs. \"friend\". This is a big problem when comparing documents or when searching for documents in a database. For example, when one uses \"dog\" as a search term, both sentences should be returned and not just the second one.\n",
    "\n",
    "Stemming and lemmatization are two common techniques used in natural language processing (NLP) for text normalization. Both methods aim to reduce words to their base or root forms, but they differ in their approaches and outcomes.\n",
    "\n",
    "**Stemming:** Stemming is a process of reducing words to their \"stems\" by removing prefixes and suffixes, typically through simple heuristic rules. The resulting stems may not always be actual words. The goal of stemming is to normalize words that have the same base meaning but may have different inflections or variations. For example, stemming the words \"running,\" \"runs,\" and \"runner\" would result in the common stem \"run.\" A popular stemming algorithm is the Porter stemming algorithm.\n",
    "\n",
    "**Lemmatization:** Lemmatization, on the other hand, is a more advanced technique that aims to transform words to their \"lemmas,\" which are the base or dictionary forms of words. Lemmatization takes into account the morphological analysis of words and considers factors such as part-of-speech (POS) tags to determine the correct lemma. The output of lemmatization is usually a real word that exists in the language. For example, lemmatizing the words \"running,\" \"runs,\" and \"runner\" would yield the lemma \"run.\" Lemmatization requires more linguistic knowledge and often relies on dictionaries or language-specific resources.\n",
    "\n",
    "The choice between stemming and lemmatization depends on the specific NLP task and its requirements. Stemming is a simpler and faster technique, often used when the exact word form is not critical, such as in information retrieval or indexing tasks. Lemmatization, being more linguistically sophisticated, is preferred in tasks where the base form and the semantic meaning of words are important, such as in machine translation, sentiment analysis, or question-answering systems.\n",
    "\n",
    "It's important to note that stemming and lemmatization may not always produce the same results, and the choice between them should consider the trade-offs between accuracy and computational complexity.\n",
    "\n",
    "Both stemming and lemmatization are the methods to normalize documents on a syntactical level. Often the same words are used in different forms depending on their grammatical use in a sentence."
   ]
  },
  {
   "cell_type": "markdown",
   "metadata": {},
   "source": [
    "## Setting up the Notebook\n",
    "\n",
    "### Import all Required Packages"
   ]
  },
  {
   "cell_type": "code",
   "execution_count": null,
   "metadata": {},
   "outputs": [],
   "source": [
    "import string\n",
    "import nltk\n",
    "\n",
    "from nltk.stem.porter import PorterStemmer\n",
    "from nltk.stem.snowball import SnowballStemmer\n",
    "from nltk.stem.lancaster import LancasterStemmer\n",
    "\n",
    "from nltk.stem import WordNetLemmatizer\n",
    "\n",
    "from nltk import word_tokenize\n",
    "from nltk import pos_tag\n",
    "\n",
    "import spacy\n",
    "\n",
    "# Load English language model (if missing, check out: https://spacy.io/models/en)\n",
    "nlp = spacy.load('en_core_web_md')  "
   ]
  },
  {
   "cell_type": "markdown",
   "metadata": {},
   "source": [
    "Lemmatization requires the information if a word is a noun, verb or adjective. We therefore need a Part-of-Speech tagger to extract this information. The code cell below downloads `averaged_perceptron_tagger`, Part-of-Speech tagger of NLTK (in case it is not already available in the current NLTK installation)."
   ]
  },
  {
   "cell_type": "code",
   "execution_count": null,
   "metadata": {},
   "outputs": [],
   "source": [
    "nltk.download('averaged_perceptron_tagger')"
   ]
  },
  {
   "cell_type": "markdown",
   "metadata": {},
   "source": [
    "---"
   ]
  },
  {
   "cell_type": "markdown",
   "metadata": {},
   "source": [
    "## Stemming\n",
    "\n",
    "Stemming is a process in natural language processing (NLP) that reduces words to their base or root forms, called stems. Stemming algorithms apply heuristic rules to remove prefixes and suffixes from words, aiming to normalize variations of words that share a common root. There are several popular stemming algorithms, each with its own approach and characteristics. The main differences between different stemmers include:\n",
    "\n",
    "* **Porter Stemmer:** The Porter stemming algorithm, developed by Martin Porter, is one of the most widely used stemmers. It applies a series of rules and transformations to remove common English word endings, focusing on the structure of the word rather than its linguistic meaning. The Porter stemmer is known for its simplicity and speed but may produce stems that are not actual words.\n",
    "\n",
    "* **Snowball Stemmer:** The Snowball stemmer, also known as the Porter2 stemmer, is an extension of the Porter stemmer. It provides stemmers for multiple languages, including English, German, Spanish, French, and more. The Snowball stemmer is an improvement over the original Porter stemmer, addressing some of its limitations and offering better performance and accuracy for different languages.\n",
    "\n",
    "* **Lancaster Stemmer:** The Lancaster stemming algorithm, developed by Chris D. Paice, is an aggressive stemming algorithm that focuses on removing prefixes and suffixes from words. It applies a set of rules that are more aggressive than those used in the Porter stemmer, often resulting in shorter stems. The Lancaster stemmer is known for its aggressive stemming behavior and can produce stems that are not recognizable as actual words.\n",
    "\n",
    "* **Lovins Stemmer:** The Lovins stemmer, developed by J. H. Lovins, is an early stemming algorithm that uses a set of rules based on linguistic principles to remove common word endings. It aims to produce stems that are linguistically meaningful and recognizable as real words. The Lovins stemmer is not as widely used as the Porter or Lancaster stemmers but can be useful in certain contexts.\n",
    "\n",
    "The choice of stemmer depends on the specific NLP task, the language being processed, and the trade-offs between simplicity, speed, accuracy, and the desired level of stemming aggressiveness. It's important to evaluate and compare the performance of different stemmers for a particular application to determine the most suitable one.\n",
    "\n",
    "### Define Set of Stemmers\n",
    "\n",
    "We first define a few stemmers provided by NLTK. For more stemmer, see http://www.nltk.org/api/nltk.stem.html"
   ]
  },
  {
   "cell_type": "code",
   "execution_count": null,
   "metadata": {},
   "outputs": [],
   "source": [
    "porter_stemmer = PorterStemmer()\n",
    "lancaster_stemmer = LancasterStemmer()\n",
    "snowball_stemmer = SnowballStemmer('english')\n",
    "\n",
    "# Put all stemmers into a list to make their use easier\n",
    "stemmer_list = [porter_stemmer, snowball_stemmer, lancaster_stemmer]"
   ]
  },
  {
   "cell_type": "markdown",
   "metadata": {},
   "source": [
    "### Define List of Example Words\n",
    "\n",
    "To illustrate the effects of stemming, let's consider a list of individual words instead of a complete text document. This makes it easier the point out the difference between different stemmers. The choice of word below cover relevant cases incl.:\n",
    "\n",
    "* Plural form of nouns\n",
    "* Different verb tenses\n",
    "* Irregular verbs (e.g., verbs with an irregular forms the past tense)\n",
    "* Irregular adjectives (e.g., adjectives with an irregular forms the comparative and superlative)\n"
   ]
  },
  {
   "cell_type": "code",
   "execution_count": null,
   "metadata": {},
   "outputs": [],
   "source": [
    "word_list = ['only', 'accepted', 'studying','study','studied', 'dogs', 'cats', 'running', 'phones', 'viewed', \n",
    "             'presumably', 'crying', 'went', 'packed', 'worse', 'best', 'mice', 'friends', 'makes']"
   ]
  },
  {
   "cell_type": "markdown",
   "metadata": {},
   "source": [
    "### Perform Stemming\n",
    "\n",
    "We can now perform stemming of each word using all of our 3 defined stemmers, and print it output in such a way to quickly see the differences.\n"
   ]
  },
  {
   "cell_type": "code",
   "execution_count": null,
   "metadata": {},
   "outputs": [],
   "source": [
    "for word in word_list:\n",
    "    print (word + ':')\n",
    "    for stemmer in stemmer_list:\n",
    "        stemmed_word = stemmer.stem(word)\n",
    "        print ('\\t', stemmed_word)"
   ]
  },
  {
   "cell_type": "markdown",
   "metadata": {},
   "source": [
    "In general, different stemmers will yield different outputs depending on their underlying rules -- although for our example words, only the `LancasterStemmer` will yield different outputs. In general, the different outputs do not automatically make one stemmer better or worse than another stemmer."
   ]
  },
  {
   "cell_type": "markdown",
   "metadata": {},
   "source": [
    "---"
   ]
  },
  {
   "cell_type": "markdown",
   "metadata": {},
   "source": [
    "## Lemmatization\n",
    "\n",
    "A lemmatizer is a tool or algorithm that transforms words into their base or dictionary forms, known as lemmas. Unlike stemming, which simplifies words by removing prefixes and suffixes without considering linguistic context, lemmatization takes into account the morphological analysis of words, part-of-speech (POS) tags, and language-specific rules to produce meaningful and valid lemmas.\n",
    "\n",
    "Here is a brief summary of how a lemmatizer for NLP typically works:\n",
    "\n",
    "* **Tokenization:** The text is divided into individual words or tokens using tokenization techniques. This is typically a separate step performed before lemmatization; but the lemmatizer assumes tokenized text as input.\n",
    "\n",
    "* **POS tagging:** Each word is assigned a part-of-speech tag, such as noun, verb, adjective, etc. POS tagging helps determine the appropriate lemma based on the word's grammatical role.\n",
    "\n",
    "* **Lemmatization rules:** The lemmatizer applies language-specific rules and patterns to convert words to their lemmas. These rules consider factors like the word's POS tag, its inflections, and other linguistic properties. For example, for English verbs, the lemmatizer would handle verb conjugations to identify the base form.\n",
    "\n",
    "* **Lookup in dictionary or lexicon:** The lemmatizer may consult a dictionary or lexicon that contains information about word forms and their corresponding lemmas. This can be helpful for irregular words that don't follow regular morphological rules.\n",
    "\n",
    "* **Lemmatization output:** The lemmatizer generates the lemma for each word, which represents the base or canonical form of the word. The resulting lemmas are typically real words that exist in the language and are recognized by native speakers.\n",
    "\n",
    "* **Post-processing:** In some cases, additional post-processing steps may be applied to refine or improve the lemmatization results. These steps could include handling special cases, resolving ambiguities, or dealing with out-of-vocabulary terms.\n",
    "\n",
    "Lemmatization requires linguistic knowledge, language-specific resources (such as dictionaries or lexicons), and morphological analysis to accurately identify and generate the appropriate lemmas. It is a more sophisticated technique compared to stemming and is generally preferred when preserving the semantic meaning and grammatical correctness of words is crucial in NLP tasks like machine translation, information retrieval, or sentiment analysis."
   ]
  },
  {
   "cell_type": "markdown",
   "metadata": {},
   "source": [
    "### Lemmatization with NLTK\n",
    "\n",
    "#### Define Lemmatizer Using NLTK\n",
    "\n",
    "The `WordNetLemmatizer` is a lemmatization tool provided by the Natural Language Toolkit (NLTK), which is a popular library for NLP in Python. NLTK is widely used for various NLP tasks, including lemmatization, and the WordNetLemmatizer is one of the lemmatization options it offers. It is specifically designed to lemmatize English words based on WordNet, a lexical database for English. WordNet organizes words into synsets (sets of synonyms), and each synset is linked to various lemmas representing different word forms. The `WordNetLemmatizer` in NLTK utilizes WordNet's information and applies lemmatization rules to transform words to their lemmas. It takes into account the part-of-speech (POS) tag of each word and provides options for lemmatizing nouns, verbs, adjectives, and adverbs."
   ]
  },
  {
   "cell_type": "code",
   "execution_count": null,
   "metadata": {},
   "outputs": [],
   "source": [
    "wordnet_lemmatizer = WordNetLemmatizer()"
   ]
  },
  {
   "cell_type": "markdown",
   "metadata": {},
   "source": [
    "#### Perform Lemmatization w.r.t. all Word Types\n",
    "\n",
    "The `WordNetLemmatizer` distinguishes between nouns, verbs, adjectives, and adverbs. This Part-of-Speech information must be provided as input. The four choices of input parameters are `n` (noun), `v` (verb), `a` (adjective), and `r` (adverb). In the code cell below, we can lemmatize each of our example words using these for different word types and inspect the output.\n"
   ]
  },
  {
   "cell_type": "code",
   "execution_count": null,
   "metadata": {},
   "outputs": [],
   "source": [
    "pos_list = ['n', 'v', 'a', 'r']\n",
    "\n",
    "for word in word_list:\n",
    "    print (word + ':')\n",
    "    for pos in pos_list:\n",
    "        lemmatized_word = wordnet_lemmatizer.lemmatize(word, pos=pos) # default is 'n'\n",
    "        print ('\\t', word, '=[{}]=>'.format(pos), lemmatized_word)"
   ]
  },
  {
   "cell_type": "markdown",
   "metadata": {},
   "source": [
    "#### Lemmatization in Practice\n",
    "\n",
    "Usually, we only want to lemmatize each word in a document using its correct word type (i.e., Part-of-Speech). This means that we first need to apply a Part-of-Speech (POS) tagger that tells us the type for each word in a sentence; see the dedicated notebook about POS tagging. In the code cell below, we simply use a POS tagger provided by NLTK."
   ]
  },
  {
   "cell_type": "code",
   "execution_count": null,
   "metadata": {},
   "outputs": [],
   "source": [
    "sentence = \"The newest study has shown that cats have mostly a better sense of smell than dogs.\"\n",
    "\n",
    "# First, tokenize sentence\n",
    "token_list = word_tokenize(sentence)\n",
    "\n",
    "# Second, calculate POS tags for each token\n",
    "pos_tag_list = pos_tag(token_list)\n",
    "\n",
    "for pos in pos_tag_list:\n",
    "    print(pos)"
   ]
  },
  {
   "cell_type": "markdown",
   "metadata": {},
   "source": [
    "The POS tagger distinguishes several dozens of word types. However, we are only interested in whether a word is a noun, verb, adjective, or adverb. We therefore need to map the output of the POS tagger to the 4 valid options `\"n\"`, `\"v\"`, `\"a\"`, and `\"r\"`; see above. However, this is relatively easy to do since we only have to look at the first character of the resulting POS tags. All tags for nouns start with an \"N\", all tags for verbs start with a \"V\", all tags for adjectives start with a \"J\", and all tags for adverbs start with an \"R\"."
   ]
  },
  {
   "cell_type": "code",
   "execution_count": null,
   "metadata": {},
   "outputs": [],
   "source": [
    "print ('\\nOutput of NLTK lemmatizer:\\n')\n",
    "for token, tag in pos_tag_list:\n",
    "    word_type = 'n' # Default if all fails\n",
    "    tag_simple = tag[0].lower() # Converts, e.g., \"VBD\" to \"v\"\n",
    "    if tag_simple in ['n', 'v', 'r']:\n",
    "        # If the POS tag starts with \"n\",\"v\", or \"r\", we know it's a noun, verb, or adverb\n",
    "        word_type = tag_simple \n",
    "    elif tag_simple in ['j']:\n",
    "        # If the POS tag starts with a \"j\", we know it's an adjective\n",
    "        word_type = 'a' \n",
    "    lemmatized_token = wordnet_lemmatizer.lemmatize(token.lower(), pos=word_type)\n",
    "    print(token, '=[{}]==[{}]=>'.format(tag, word_type), lemmatized_token)"
   ]
  },
  {
   "cell_type": "markdown",
   "metadata": {},
   "source": [
    "### Lemmatization with spaCy"
   ]
  },
  {
   "cell_type": "markdown",
   "metadata": {},
   "source": [
    "spaCy already performs lemmatization by default when processing a document without any additional commands. This makes it much more convenient to use than NLTK."
   ]
  },
  {
   "cell_type": "code",
   "execution_count": null,
   "metadata": {},
   "outputs": [],
   "source": [
    "print ('\\nOutput of spaCy lemmatizer:\\n')\n",
    "doc = nlp(sentence) # doc is an object, not just a simple list\n",
    "\n",
    "for token in doc:\n",
    "    print (token.text, '=[{}]=>'.format(token.pos_), token.lemma_) # token is also an object, not a string"
   ]
  },
  {
   "cell_type": "markdown",
   "metadata": {},
   "source": [
    "Compare the results from NLTK and spaCy. While most words get lemmatized the same way, the noticeable difference is for the word \"better\". Arguably, NLTK does a better job here, as \"good\" seems to be the more appropriate lemmatized form in this sentence."
   ]
  },
  {
   "cell_type": "markdown",
   "metadata": {},
   "source": [
    "---"
   ]
  },
  {
   "cell_type": "markdown",
   "metadata": {},
   "source": [
    "## Application Use Case: Document Similarity"
   ]
  },
  {
   "cell_type": "markdown",
   "metadata": {},
   "source": [
    "Lastly, let's have a look at a concrete application scenario: the calculation of a similarity score between 2 documents. To this end, we provide you with a auxiliary method `preprocess_text()` that combines tokenization, stemming/lemmatization, and some normalization steps into a single method; you can check out the source code in `utils.nlputil` for more details. The method takes a document as input and returns a set of words (i.e., no duplicates)."
   ]
  },
  {
   "cell_type": "code",
   "execution_count": null,
   "metadata": {},
   "outputs": [],
   "source": [
    "from src.nlputil import preprocess_text"
   ]
  },
  {
   "cell_type": "markdown",
   "metadata": {},
   "source": [
    "Print some example output for both methods."
   ]
  },
  {
   "cell_type": "code",
   "execution_count": null,
   "metadata": {},
   "outputs": [],
   "source": [
    "# Show example output of create_stemmed_word_set() method\n",
    "print (preprocess_text(sentence, stemmer=porter_stemmer))\n",
    "\n",
    "# Show example output of create_lemmatized_word_set() method\n",
    "print (preprocess_text(sentence, lemmatizer=wordnet_lemmatizer))"
   ]
  },
  {
   "cell_type": "markdown",
   "metadata": {},
   "source": [
    "To calculate the similarity between two documents, let's define two sentences that are semantically similar to each other, but not syntactically."
   ]
  },
  {
   "cell_type": "code",
   "execution_count": null,
   "metadata": {},
   "outputs": [],
   "source": [
    "sentence_1 = \"The newest study has shown that cats have a better sense of smell than dogs.\"\n",
    "sentence_2 = \"Some studies show that a cat can smell better than a dog.\""
   ]
  },
  {
   "cell_type": "markdown",
   "metadata": {},
   "source": [
    "For both sentences, we can calculate all 3 different word sets:\n",
    "- naive (only simple tokenizing)\n",
    "- stemmed\n",
    "- lemmatized\n"
   ]
  },
  {
   "cell_type": "code",
   "execution_count": null,
   "metadata": {},
   "outputs": [],
   "source": [
    "naive_word_set_1 = set(word_tokenize(sentence_1.lower()))\n",
    "naive_word_set_2 = set(word_tokenize(sentence_2.lower()))\n",
    "\n",
    "stemmed_word_set_1 = preprocess_text(sentence_1, stemmer=porter_stemmer, return_type='set')\n",
    "stemmed_word_set_2 = preprocess_text(sentence_2, stemmer=porter_stemmer, return_type='set')\n",
    "\n",
    "lemmatized_word_set_1 = preprocess_text(sentence_1, lemmatizer=wordnet_lemmatizer, return_type='set')\n",
    "lemmatized_word_set_2 = preprocess_text(sentence_2, lemmatizer=wordnet_lemmatizer, return_type='set')\n",
    "\n",
    "print (naive_word_set_1)\n",
    "print (stemmed_word_set_1)\n",
    "print (lemmatized_word_set_1)"
   ]
  },
  {
   "cell_type": "markdown",
   "metadata": {},
   "source": [
    "#### Define Similarity Metric\n",
    "\n",
    "The Jaccard similarity, also known as the Jaccard index, is a measure of similarity between two sets. It is defined as the size of the intersection of the sets divided by the size of their union. The Jaccard similarity is often used in data analysis, information retrieval, and recommendation systems to quantify the similarity or overlap between two sets of items.\n",
    "\n",
    "For 2 sets A and B, the *Jaccard Similarity* J(A,B) is defined as:\n",
    "\n",
    "$$J(A,B)=\\frac{|A\\cap B|}{|A\\cup B|}$$\n",
    "\n",
    "Intuitively, if A and B are completely different, the size intersection $|A\\cap B|$ is 0, making the similarity 0. If A and B are identical both the size intersection and the size of the union are the same, making the similarity 1.0.\n",
    "\n",
    "The Jaccard similarity is particularly useful when dealing with binary or categorical data, where the presence or absence of items in a set is considered without considering their specific values or frequencies. It is commonly used in tasks such as document similarity, recommendation systems, clustering, and evaluating the performance of data mining algorithms.\n",
    "\n",
    "The method `jaccard_similarity()` below implements this metric."
   ]
  },
  {
   "cell_type": "code",
   "execution_count": null,
   "metadata": {},
   "outputs": [],
   "source": [
    "def jaccard_similarity(word_set_1, word_set_2):\n",
    "    union_set = word_set_1.union(word_set_2)\n",
    "    intersection_set = word_set_1.intersection(word_set_2)\n",
    "    similarity = len(intersection_set) / len(union_set)\n",
    "    return similarity\n",
    "    "
   ]
  },
  {
   "cell_type": "markdown",
   "metadata": {},
   "source": [
    "#### Compute Document Similarities\n",
    "\n",
    "We can now compute the pairwise similarities for our 2 input sentences with respect to the different preprocessing steps applied."
   ]
  },
  {
   "cell_type": "code",
   "execution_count": null,
   "metadata": {},
   "outputs": [],
   "source": [
    "print(jaccard_similarity(naive_word_set_1, naive_word_set_2))\n",
    "print(jaccard_similarity(stemmed_word_set_1, stemmed_word_set_2))\n",
    "print(jaccard_similarity(lemmatized_word_set_1, lemmatized_word_set_2))"
   ]
  },
  {
   "cell_type": "markdown",
   "metadata": {},
   "source": [
    "As you can see, without any stemming or lemmatization performed the Jaccard similarity between the sentences is very low. The highest similarity we see here when both sentences have been lemmatized."
   ]
  },
  {
   "cell_type": "markdown",
   "metadata": {},
   "source": [
    "---"
   ]
  },
  {
   "cell_type": "markdown",
   "metadata": {
    "tags": []
   },
   "source": [
    "## Summary\n",
    "\n",
    "Stemming and lemmatization are essential techniques in natural language processing (NLP) that help normalize and reduce words to their base forms. Here is a brief summary of their uses and importance:\n",
    "\n",
    "* **Stemming:**\n",
    "    * Uses: Stemming is primarily employed in tasks where the exact word form is not crucial, such as information retrieval, indexing, and search engines.\n",
    "    * Importance: Stemming allows for the reduction of words to their common base form, which helps in matching variations of words, handling inflections, and improving recall in search queries. It reduces the vocabulary size and can enhance computational efficiency.\n",
    "\n",
    "<p></p>\n",
    "\n",
    "* **Lemmatization:**\n",
    "    * Uses: Lemmatization is useful in NLP tasks where preserving the semantic meaning and grammatical correctness of words is important, such as machine translation, sentiment analysis, question-answering systems, and language generation.\n",
    "    * Importance: Lemmatization provides the base or canonical form of words, capturing their underlying meaning. It helps in resolving word variants, handling different inflections, and maintaining the integrity of the language structure. Lemmatization enables better accuracy and precision in language understanding and generation tasks.\n",
    "\n",
    "<p></p>\n",
    "\n",
    "* **Overall Importance:**\n",
    "\n",
    "    * *Vocabulary Normalization:* Stemming and lemmatization help reduce the dimensionality of text data by grouping words with similar meanings. They assist in avoiding redundancy and noise in the data, leading to better generalization and improved performance in NLP models.\n",
    "\n",
    "    * *Language Understanding:* By reducing words to their base forms, stemming and lemmatization enhance the ability of NLP systems to understand and process text. They facilitate tasks such as part-of-speech tagging, syntactic parsing, and semantic analysis by providing consistent representations of words.\n",
    "\n",
    "     * *Information Retrieval:* Stemming and lemmatization contribute to more effective information retrieval by matching user queries with relevant documents. They improve recall by accounting for different word forms and variations, enabling a broader range of matching possibilities.\n",
    "\n",
    "    * *Text Analysis and Mining:* Stemming and lemmatization aid in analyzing and mining large text corpora by simplifying and standardizing word representations. They assist in extracting meaningful patterns, identifying recurring themes, and gaining insights from textual data.\n",
    "\n",
    "Choosing the appropriate technique (stemming or lemmatization) depends on the specific NLP task, language, and trade-offs between precision, recall, and computational complexity. It is crucial to evaluate and experiment with both techniques to ensure optimal performance and accurate language processing in various NLP applications."
   ]
  },
  {
   "cell_type": "code",
   "execution_count": null,
   "metadata": {},
   "outputs": [],
   "source": []
  }
 ],
 "metadata": {
  "anaconda-cloud": {},
  "kernelspec": {
   "display_name": "Python [conda env:py310]",
   "language": "python",
   "name": "conda-env-py310-py"
  },
  "language_info": {
   "codemirror_mode": {
    "name": "ipython",
    "version": 3
   },
   "file_extension": ".py",
   "mimetype": "text/x-python",
   "name": "python",
   "nbconvert_exporter": "python",
   "pygments_lexer": "ipython3",
   "version": "3.10.13"
  }
 },
 "nbformat": 4,
 "nbformat_minor": 4
}
